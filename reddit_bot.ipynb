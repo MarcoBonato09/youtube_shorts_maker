{
 "cells": [
  {
   "cell_type": "code",
   "execution_count": 78,
   "id": "9ff096cf700870ed",
   "metadata": {
    "ExecuteTime": {
     "end_time": "2023-11-08T11:36:24.106221100Z",
     "start_time": "2023-11-08T11:36:24.030451700Z"
    }
   },
   "outputs": [],
   "source": [
    "import requests as r\n",
    "import json\n",
    "import pyttsx3\n",
    "import os\n",
    "from moviepy.editor import *"
   ]
  },
  {
   "cell_type": "code",
   "execution_count": 79,
   "id": "d60de421d2bb815c",
   "metadata": {
    "ExecuteTime": {
     "end_time": "2023-11-08T11:36:29.134653800Z",
     "start_time": "2023-11-08T11:36:24.030451700Z"
    }
   },
   "outputs": [],
   "source": [
    "YOUTUBE_API_KEY = \"\"\n",
    "VOICE_ENGINE = pyttsx3.init()\n",
    "MIN_UPVOTES = 100\n",
    "MIN_CHARACTERS = 1000\n",
    "NUM_SHORTS_FOR_LONG_FORM = ..."
   ]
  },
  {
   "cell_type": "code",
   "execution_count": 80,
   "id": "cf6abf956a798e95",
   "metadata": {
    "ExecuteTime": {
     "end_time": "2023-11-08T11:36:29.166231200Z",
     "start_time": "2023-11-08T11:36:29.134653800Z"
    }
   },
   "outputs": [
    {
     "name": "stdout",
     "output_type": "stream",
     "text": [
      "Moviepy - Building video ./videos/We have persistent scammers preying on this community.mp4.\n",
      "MoviePy - Writing audio in We have persistent scammers preying on this communityTEMP_MPY_wvf_snd.mp3\n"
     ]
    },
    {
     "name": "stderr",
     "output_type": "stream",
     "text": [
      "                                                                      \r"
     ]
    },
    {
     "name": "stdout",
     "output_type": "stream",
     "text": [
      "MoviePy - Done.\n",
      "Moviepy - Writing video ./videos/We have persistent scammers preying on this community.mp4\n",
      "\n"
     ]
    },
    {
     "name": "stderr",
     "output_type": "stream",
     "text": [
      "t:  24%|██▍       | 1071/4388 [01:11<03:11, 17.34it/s, now=None]"
     ]
    }
   ],
   "source": [
    "\n",
    "def get_posts():\n",
    "    with open(\"subreddits.txt\", \"r\") as file:\n",
    "        for sub in file.readlines():\n",
    "            posts = r.get(f\"https://www.reddit.com/r/{sub}/hot/.json\", headers={\"User-agent\": \"tester 0.1\"}).content\n",
    "            posts = json.loads(posts)[\"data\"][\"children\"]\n",
    "            posts = [p for p in posts\n",
    "                     if len(p[\"data\"][\"selftext\"]) >= MIN_CHARACTERS\n",
    "                     and p[\"data\"][\"score\"] >= MIN_UPVOTES\n",
    "                     and p[\"data\"][\"media\"] is None\n",
    "                     and p[\"data\"][\"is_video\"] is False]\n",
    "    return posts\n",
    "\n",
    "\n",
    "def get_tts(posts):\n",
    "    for p in posts:\n",
    "        title = p[\"data\"][\"title\"].replace(\"/\", \"slash\").replace(\"\\\\\", \"slash\").replace(\":\", \"\").replace(\".\", \"\")\n",
    "        text = f\"r slash {p['data']['subreddit']}. {p['data']['selftext']}\"\n",
    "        text = text.replace(\"/\", \"slash\").replace(\"\\\\\", \"slash\")\n",
    "        sentences = text.split(\".\")\n",
    "        \n",
    "        if not os.path.exists(f\"./tts_files/{title}\"):\n",
    "            os.mkdir(f\"./tts_files/{title}\")\n",
    "                \n",
    "        for si, s in enumerate(sentences):\n",
    "            if s == \"\": continue\n",
    "            VOICE_ENGINE.save_to_file(s, f\"./tts_files/{title}/sentence{si}.wav\")\n",
    "                             \n",
    "        VOICE_ENGINE.runAndWait()\n",
    "        \n",
    "        \n",
    "def generate_videos(posts):\n",
    "    for p in posts:\n",
    "        title = p[\"data\"][\"title\"].replace(\"/\", \"slash\").replace(\"\\\\\", \"slash\").replace(\":\", \"\").replace(\".\", \"\")\n",
    "        text = f\"r slash {p['data']['subreddit']}. {p['data']['selftext']}\"\n",
    "        text = text.replace(\"/\", \"slash\").replace(\"\\\\\", \"slash\")\n",
    "        sentences = text.split(\".\")\n",
    "\n",
    "        background_clip = VideoFileClip(f\"./background_videos/mc_parkour.mp4\")\n",
    "        dimension = background_clip.size\n",
    "        \n",
    "        subclips = []\n",
    "        time_index = 0\n",
    "        for si, s in enumerate(sentences):     \n",
    "            if s == \"\": continue       \n",
    "            audio_clip = AudioFileClip(f\"./tts_files/{title}/sentence{si}.wav\")\n",
    "            duration = audio_clip.duration\n",
    "            \n",
    "            if time_index+duration >= background_clip.duration:\n",
    "                time_index -= background_clip.duration\n",
    "            \n",
    "            background_subclip = background_clip.subclip(time_index, time_index+duration)\n",
    "            text_clip = TextClip(s+\".\", size=dimension, font=\"Berlin-Sans-FB-Bold\", color=\"white\", fontsize=100, method=\"caption\", align=\"center\", interline=-50, stroke_color=\"black\", stroke_width=10)\n",
    "            \n",
    "            subclip = CompositeVideoClip([background_subclip, text_clip])\n",
    "            subclip = subclip.set_audio(audio_clip).set_duration(duration)\n",
    "            subclips.append(subclip)\n",
    "            \n",
    "            time_index += duration\n",
    "                        \n",
    "        video = concatenate_videoclips(subclips)\n",
    "        video.write_videofile(f\"./videos/{title}.mp4\")\n",
    "    \n",
    "        break \n",
    "                        \n",
    "    \n",
    "posts = get_posts()\n",
    "get_tts(posts)\n",
    "generate_videos(posts)"
   ]
  },
  {
   "cell_type": "code",
   "execution_count": null,
   "metadata": {},
   "outputs": [],
   "source": []
  }
 ],
 "metadata": {
  "kernelspec": {
   "display_name": "Python 3",
   "language": "python",
   "name": "python3"
  },
  "language_info": {
   "codemirror_mode": {
    "name": "ipython",
    "version": 3
   },
   "file_extension": ".py",
   "mimetype": "text/x-python",
   "name": "python",
   "nbconvert_exporter": "python",
   "pygments_lexer": "ipython3",
   "version": "3.11.5"
  },
  "papermill": {
   "default_parameters": {},
   "duration": 18.07377,
   "end_time": "2023-10-17T17:30:54.165919",
   "environment_variables": {},
   "exception": null,
   "input_path": "__notebook__.ipynb",
   "output_path": "__notebook__.ipynb",
   "parameters": {},
   "start_time": "2023-10-17T17:30:36.092149",
   "version": "2.4.0"
  }
 },
 "nbformat": 4,
 "nbformat_minor": 5
}
