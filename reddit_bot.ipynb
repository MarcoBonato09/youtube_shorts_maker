{
 "cells": [
  {
   "cell_type": "code",
   "execution_count": 67,
   "id": "9ff096cf700870ed",
   "metadata": {
    "ExecuteTime": {
     "end_time": "2023-11-08T11:36:24.106221100Z",
     "start_time": "2023-11-08T11:36:24.030451700Z"
    }
   },
   "outputs": [],
   "source": [
    "import requests as r\n",
    "import json\n",
    "import pyttsx3\n",
    "from moviepy.editor import *"
   ]
  },
  {
   "cell_type": "code",
   "execution_count": 68,
   "id": "d60de421d2bb815c",
   "metadata": {
    "ExecuteTime": {
     "end_time": "2023-11-08T11:36:29.134653800Z",
     "start_time": "2023-11-08T11:36:24.030451700Z"
    }
   },
   "outputs": [],
   "source": [
    "YOUTUBE_API_KEY = \"\"\n",
    "VOICE_ENGINE = pyttsx3.init()\n",
    "MIN_UPVOTES = 100\n",
    "MIN_CHARACTERS = 1000\n",
    "IS_TEXT = True\n",
    "NUM_SUBCLIPS = 7\n",
    "NUM_SHORTS_FOR_LONG_FORM = ..."
   ]
  },
  {
   "cell_type": "code",
   "execution_count": 69,
   "id": "cf6abf956a798e95",
   "metadata": {
    "ExecuteTime": {
     "end_time": "2023-11-08T11:36:29.166231200Z",
     "start_time": "2023-11-08T11:36:29.134653800Z"
    }
   },
   "outputs": [],
   "source": [
    "\n",
    "def get_posts():\n",
    "    with open(\"subreddits.txt\", \"r\") as file:\n",
    "        for sub in file.readlines():\n",
    "            posts = r.get(f\"https://www.reddit.com/r/{sub}/hot/.json\", headers={\"User-agent\": \"tester 0.1\"}).content\n",
    "            posts = json.loads(posts)[\"data\"][\"children\"]\n",
    "            posts = [i for i in posts\n",
    "                     if len(i[\"data\"][\"selftext\"]) >= MIN_CHARACTERS\n",
    "                     and i[\"data\"][\"score\"] >= MIN_UPVOTES\n",
    "                     and i[\"data\"][\"media\"] is None\n",
    "                     and i[\"data\"][\"is_video\"] is not IS_TEXT]\n",
    "    return posts\n",
    "\n",
    "\n",
    "def get_tts(posts):\n",
    "    for i in posts:\n",
    "        title = i[\"data\"][\"title\"].replace(\"/\", \"slash\").replace(\"\\\\\", \"slash\")\n",
    "        text = f\"r/{i['data']['subreddit']}. {i['data']['selftext']}\"\n",
    "        VOICE_ENGINE.save_to_file(text, f\"./tts_files/{title}.mp3\")\n",
    "        VOICE_ENGINE.runAndWait()\n",
    "        \n",
    "        \n",
    "def generate_videos(posts):\n",
    "    for i in posts:\n",
    "        title = i[\"data\"][\"title\"].replace(\"/\", \"slash\").replace(\"\\\\\", \"slash\")\n",
    "        text = f\"r slash {i['data']['subreddit']}. {i['data']['selftext']}\"\n",
    "        words = text.split(\" \")\n",
    "        num_characters = sum([len(i) for i in words])\n",
    "\n",
    "        voice_clip = AudioFileClip(f\"./tts_files/{title}.mp3\")\n",
    "        background_clip = VideoFileClip(f\"./background_videos/mc_parkour.mp4\")\n",
    "                \n",
    "        subclips = []\n",
    "        time_index = 0\n",
    "        for j in range(len(words)):\n",
    "            clip_length = 1.2*voice_clip.duration*len(words[j])/num_characters\n",
    "            video_subclip = background_clip.subclip(time_index, time_index+clip_length)\n",
    "            text_subclip = TextClip(words[j], align=\"center\", size=(500, 500))\n",
    "            \n",
    "            subclip = CompositeVideoClip([video_subclip, text_subclip])\n",
    "            subclip = subclip.set_duration(clip_length)\n",
    "            subclips.append(subclip)\n",
    "            \n",
    "            time_index += clip_length\n",
    "                \n",
    "        final_video = concatenate_videoclips(subclips).set_audio(voice_clip)\n",
    "        final_video.write_videofile(f\"./videos/{title}.mp4\")\n",
    "        break\n",
    "      \n",
    "      \n",
    "posts = get_posts()\n",
    "get_tts(posts)\n",
    "generate_videos(posts)"
   ]
  },
  {
   "cell_type": "code",
   "execution_count": null,
   "id": "43d691a85a0616d5",
   "metadata": {
    "ExecuteTime": {
     "end_time": "2023-11-08T11:37:46.762106600Z",
     "start_time": "2023-11-08T11:37:46.578962700Z"
    }
   },
   "outputs": [],
   "source": []
  },
  {
   "cell_type": "code",
   "execution_count": null,
   "id": "3a26cb4c5c9f920e",
   "metadata": {
    "ExecuteTime": {
     "end_time": "2023-11-08T11:37:47.128615900Z",
     "start_time": "2023-11-08T11:37:46.748975500Z"
    }
   },
   "outputs": [],
   "source": []
  },
  {
   "cell_type": "code",
   "execution_count": null,
   "id": "728c2544250514b6",
   "metadata": {
    "ExecuteTime": {
     "end_time": "2023-11-08T11:37:47.827520600Z",
     "start_time": "2023-11-08T11:37:46.862029400Z"
    }
   },
   "outputs": [],
   "source": []
  }
 ],
 "metadata": {
  "kernelspec": {
   "display_name": "Python 3",
   "language": "python",
   "name": "python3"
  },
  "language_info": {
   "codemirror_mode": {
    "name": "ipython",
    "version": 3
   },
   "file_extension": ".py",
   "mimetype": "text/x-python",
   "name": "python",
   "nbconvert_exporter": "python",
   "pygments_lexer": "ipython3",
   "version": "3.11.5"
  },
  "papermill": {
   "default_parameters": {},
   "duration": 18.07377,
   "end_time": "2023-10-17T17:30:54.165919",
   "environment_variables": {},
   "exception": null,
   "input_path": "__notebook__.ipynb",
   "output_path": "__notebook__.ipynb",
   "parameters": {},
   "start_time": "2023-10-17T17:30:36.092149",
   "version": "2.4.0"
  }
 },
 "nbformat": 4,
 "nbformat_minor": 5
}
